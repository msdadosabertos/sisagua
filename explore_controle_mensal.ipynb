{
  "cells": [
    {
      "cell_type": "code",
      "execution_count": null,
      "id": "59b776fb",
      "metadata": {
        "id": "59b776fb"
      },
      "outputs": [],
      "source": [
        "import pandas as pd\n",
        "import os\n"
      ]
    },
    {
      "cell_type": "markdown",
      "id": "4677ddd1",
      "metadata": {
        "id": "4677ddd1"
      },
      "source": [
        "Link de download do dado:https://sage.saude.gov.br/dados/sisagua/controle_mensal_parametros_basicos_2021.zip\n",
        "Link download dicionário: https://sage.saude.gov.br/dados/sisagua/dicionarios/dicionario_controle_parametros_basicos.odt"
      ]
    },
    {
      "cell_type": "code",
      "execution_count": null,
      "id": "cb484af7",
      "metadata": {
        "id": "cb484af7",
        "outputId": "db9fc853-0ac9-4f2d-8500-267934ff3031"
      },
      "outputs": [
        {
          "data": {
            "text/plain": [
              "<module 'ntpath' from 'C:\\\\Users\\\\mateusmagon\\\\anaconda3\\\\lib\\\\ntpath.py'>"
            ]
          },
          "execution_count": 2,
          "metadata": {},
          "output_type": "execute_result"
        }
      ],
      "source": [
        "os.path"
      ]
    },
    {
      "cell_type": "code",
      "execution_count": null,
      "id": "7931d681",
      "metadata": {
        "id": "7931d681",
        "outputId": "cc3a0b9a-675f-4ab1-9166-a20b259e60e8"
      },
      "outputs": [
        {
          "name": "stderr",
          "output_type": "stream",
          "text": [
            "C:\\Users\\mateusmagon\\anaconda3\\lib\\site-packages\\IPython\\core\\interactiveshell.py:3444: DtypeWarning: Columns (5,6,7,9,14,15) have mixed types.Specify dtype option on import or set low_memory=False.\n",
            "  exec(code_obj, self.user_global_ns, self.user_ns)\n"
          ]
        }
      ],
      "source": [
        "df = pd.read_csv('controle_mensal_parametros_basicos_2021.csv', encoding='latin_1',sep=';',decimal=',',\n",
        "                 dtype={'Código IBGE':'object','CNPJ da Instituição':'object',r'CNPJ do escritório regional/local':'object'})"
      ]
    },
    {
      "cell_type": "code",
      "execution_count": null,
      "id": "a4ae96c4",
      "metadata": {
        "id": "a4ae96c4",
        "outputId": "99eadb2c-6c8d-4845-d6db-41e3801eb62a"
      },
      "outputs": [
        {
          "data": {
            "text/html": [
              "<div>\n",
              "<style scoped>\n",
              "    .dataframe tbody tr th:only-of-type {\n",
              "        vertical-align: middle;\n",
              "    }\n",
              "\n",
              "    .dataframe tbody tr th {\n",
              "        vertical-align: top;\n",
              "    }\n",
              "\n",
              "    .dataframe thead th {\n",
              "        text-align: right;\n",
              "    }\n",
              "</style>\n",
              "<table border=\"1\" class=\"dataframe\">\n",
              "  <thead>\n",
              "    <tr style=\"text-align: right;\">\n",
              "      <th></th>\n",
              "      <th>Região Geográfica</th>\n",
              "      <th>UF</th>\n",
              "      <th>Regional de Saúde</th>\n",
              "      <th>Código IBGE</th>\n",
              "      <th>Município</th>\n",
              "      <th>Tipo da Instituição</th>\n",
              "      <th>Sigla da Instituição</th>\n",
              "      <th>Nome da Instituição</th>\n",
              "      <th>CNPJ da Instituição</th>\n",
              "      <th>Nome do escritório regional/local</th>\n",
              "      <th>...</th>\n",
              "      <th>Código Forma de abastecimento</th>\n",
              "      <th>Nome da Forma de Abastecimento</th>\n",
              "      <th>Nome da ETA / UTA</th>\n",
              "      <th>Tipo de Filtração</th>\n",
              "      <th>Ano de referência</th>\n",
              "      <th>Mês de referência</th>\n",
              "      <th>Ponto de Monitoramento</th>\n",
              "      <th>Parâmetro</th>\n",
              "      <th>Campo</th>\n",
              "      <th>Valor</th>\n",
              "    </tr>\n",
              "  </thead>\n",
              "  <tbody>\n",
              "    <tr>\n",
              "      <th>0</th>\n",
              "      <td>SUDESTE</td>\n",
              "      <td>MG</td>\n",
              "      <td>DIVINOPOLIS</td>\n",
              "      <td>312470</td>\n",
              "      <td>ESTRELA DO INDAIA</td>\n",
              "      <td>Regional</td>\n",
              "      <td>COPASA</td>\n",
              "      <td>COMPANHIA DE SANEAMENTO DE MINAS GERAIS</td>\n",
              "      <td>17281106000103</td>\n",
              "      <td>DISTRITO DO ALTO SAO FRANCISCO</td>\n",
              "      <td>...</td>\n",
              "      <td>S312470000001</td>\n",
              "      <td>SISTEMA ABASTECIMENTO DE ESTRELA DO INDAIA</td>\n",
              "      <td>ETA ESTRELA DO INDAIA</td>\n",
              "      <td>SEM FILTRAÇÃO</td>\n",
              "      <td>2021</td>\n",
              "      <td>1</td>\n",
              "      <td>SAÍDA DO TRATAMENTO</td>\n",
              "      <td>pH</td>\n",
              "      <td>Número de amostras analisadas</td>\n",
              "      <td>31.00</td>\n",
              "    </tr>\n",
              "    <tr>\n",
              "      <th>1</th>\n",
              "      <td>SUDESTE</td>\n",
              "      <td>MG</td>\n",
              "      <td>DIVINOPOLIS</td>\n",
              "      <td>312470</td>\n",
              "      <td>ESTRELA DO INDAIA</td>\n",
              "      <td>Regional</td>\n",
              "      <td>COPASA</td>\n",
              "      <td>COMPANHIA DE SANEAMENTO DE MINAS GERAIS</td>\n",
              "      <td>17281106000103</td>\n",
              "      <td>DISTRITO DO ALTO SAO FRANCISCO</td>\n",
              "      <td>...</td>\n",
              "      <td>S312470000001</td>\n",
              "      <td>SISTEMA ABASTECIMENTO DE ESTRELA DO INDAIA</td>\n",
              "      <td>ETA ESTRELA DO INDAIA</td>\n",
              "      <td>SEM FILTRAÇÃO</td>\n",
              "      <td>2021</td>\n",
              "      <td>1</td>\n",
              "      <td>SAÍDA DO TRATAMENTO</td>\n",
              "      <td>pH</td>\n",
              "      <td>Número de dados &gt; 9,0</td>\n",
              "      <td>0.00</td>\n",
              "    </tr>\n",
              "    <tr>\n",
              "      <th>2</th>\n",
              "      <td>SUDESTE</td>\n",
              "      <td>MG</td>\n",
              "      <td>DIVINOPOLIS</td>\n",
              "      <td>312470</td>\n",
              "      <td>ESTRELA DO INDAIA</td>\n",
              "      <td>Regional</td>\n",
              "      <td>COPASA</td>\n",
              "      <td>COMPANHIA DE SANEAMENTO DE MINAS GERAIS</td>\n",
              "      <td>17281106000103</td>\n",
              "      <td>DISTRITO DO ALTO SAO FRANCISCO</td>\n",
              "      <td>...</td>\n",
              "      <td>S312470000001</td>\n",
              "      <td>SISTEMA ABASTECIMENTO DE ESTRELA DO INDAIA</td>\n",
              "      <td>ETA ESTRELA DO INDAIA</td>\n",
              "      <td>SEM FILTRAÇÃO</td>\n",
              "      <td>2021</td>\n",
              "      <td>1</td>\n",
              "      <td>SAÍDA DO TRATAMENTO</td>\n",
              "      <td>pH</td>\n",
              "      <td>Número de dados &gt;= 6,0 e &lt;= 9,0</td>\n",
              "      <td>31.00</td>\n",
              "    </tr>\n",
              "    <tr>\n",
              "      <th>3</th>\n",
              "      <td>SUDESTE</td>\n",
              "      <td>MG</td>\n",
              "      <td>DIVINOPOLIS</td>\n",
              "      <td>312470</td>\n",
              "      <td>ESTRELA DO INDAIA</td>\n",
              "      <td>Regional</td>\n",
              "      <td>COPASA</td>\n",
              "      <td>COMPANHIA DE SANEAMENTO DE MINAS GERAIS</td>\n",
              "      <td>17281106000103</td>\n",
              "      <td>DISTRITO DO ALTO SAO FRANCISCO</td>\n",
              "      <td>...</td>\n",
              "      <td>S312470000001</td>\n",
              "      <td>SISTEMA ABASTECIMENTO DE ESTRELA DO INDAIA</td>\n",
              "      <td>ETA ESTRELA DO INDAIA</td>\n",
              "      <td>SEM FILTRAÇÃO</td>\n",
              "      <td>2021</td>\n",
              "      <td>1</td>\n",
              "      <td>SAÍDA DO TRATAMENTO</td>\n",
              "      <td>pH</td>\n",
              "      <td>Número de dados &lt; 6,0</td>\n",
              "      <td>0.00</td>\n",
              "    </tr>\n",
              "    <tr>\n",
              "      <th>4</th>\n",
              "      <td>SUDESTE</td>\n",
              "      <td>MG</td>\n",
              "      <td>DIVINOPOLIS</td>\n",
              "      <td>312470</td>\n",
              "      <td>ESTRELA DO INDAIA</td>\n",
              "      <td>Regional</td>\n",
              "      <td>COPASA</td>\n",
              "      <td>COMPANHIA DE SANEAMENTO DE MINAS GERAIS</td>\n",
              "      <td>17281106000103</td>\n",
              "      <td>DISTRITO DO ALTO SAO FRANCISCO</td>\n",
              "      <td>...</td>\n",
              "      <td>S312470000001</td>\n",
              "      <td>SISTEMA ABASTECIMENTO DE ESTRELA DO INDAIA</td>\n",
              "      <td>ETA ESTRELA DO INDAIA</td>\n",
              "      <td>SEM FILTRAÇÃO</td>\n",
              "      <td>2021</td>\n",
              "      <td>1</td>\n",
              "      <td>SAÍDA DO TRATAMENTO</td>\n",
              "      <td>Turbidez (uT)</td>\n",
              "      <td>Número de amostras analisadas</td>\n",
              "      <td>31.00</td>\n",
              "    </tr>\n",
              "    <tr>\n",
              "      <th>5</th>\n",
              "      <td>SUDESTE</td>\n",
              "      <td>MG</td>\n",
              "      <td>DIVINOPOLIS</td>\n",
              "      <td>312470</td>\n",
              "      <td>ESTRELA DO INDAIA</td>\n",
              "      <td>Regional</td>\n",
              "      <td>COPASA</td>\n",
              "      <td>COMPANHIA DE SANEAMENTO DE MINAS GERAIS</td>\n",
              "      <td>17281106000103</td>\n",
              "      <td>DISTRITO DO ALTO SAO FRANCISCO</td>\n",
              "      <td>...</td>\n",
              "      <td>S312470000001</td>\n",
              "      <td>SISTEMA ABASTECIMENTO DE ESTRELA DO INDAIA</td>\n",
              "      <td>ETA ESTRELA DO INDAIA</td>\n",
              "      <td>SEM FILTRAÇÃO</td>\n",
              "      <td>2021</td>\n",
              "      <td>1</td>\n",
              "      <td>SAÍDA DO TRATAMENTO</td>\n",
              "      <td>Turbidez (uT)</td>\n",
              "      <td>Percentil 95</td>\n",
              "      <td>0.28</td>\n",
              "    </tr>\n",
              "    <tr>\n",
              "      <th>6</th>\n",
              "      <td>SUDESTE</td>\n",
              "      <td>MG</td>\n",
              "      <td>DIVINOPOLIS</td>\n",
              "      <td>312470</td>\n",
              "      <td>ESTRELA DO INDAIA</td>\n",
              "      <td>Regional</td>\n",
              "      <td>COPASA</td>\n",
              "      <td>COMPANHIA DE SANEAMENTO DE MINAS GERAIS</td>\n",
              "      <td>17281106000103</td>\n",
              "      <td>DISTRITO DO ALTO SAO FRANCISCO</td>\n",
              "      <td>...</td>\n",
              "      <td>S312470000001</td>\n",
              "      <td>SISTEMA ABASTECIMENTO DE ESTRELA DO INDAIA</td>\n",
              "      <td>ETA ESTRELA DO INDAIA</td>\n",
              "      <td>SEM FILTRAÇÃO</td>\n",
              "      <td>2021</td>\n",
              "      <td>1</td>\n",
              "      <td>SAÍDA DO TRATAMENTO</td>\n",
              "      <td>Fluoreto (mg/L)</td>\n",
              "      <td>Número de dados &lt;= 1,5 mg/L</td>\n",
              "      <td>31.00</td>\n",
              "    </tr>\n",
              "    <tr>\n",
              "      <th>7</th>\n",
              "      <td>SUDESTE</td>\n",
              "      <td>MG</td>\n",
              "      <td>DIVINOPOLIS</td>\n",
              "      <td>312470</td>\n",
              "      <td>ESTRELA DO INDAIA</td>\n",
              "      <td>Regional</td>\n",
              "      <td>COPASA</td>\n",
              "      <td>COMPANHIA DE SANEAMENTO DE MINAS GERAIS</td>\n",
              "      <td>17281106000103</td>\n",
              "      <td>DISTRITO DO ALTO SAO FRANCISCO</td>\n",
              "      <td>...</td>\n",
              "      <td>S312470000001</td>\n",
              "      <td>SISTEMA ABASTECIMENTO DE ESTRELA DO INDAIA</td>\n",
              "      <td>ETA ESTRELA DO INDAIA</td>\n",
              "      <td>SEM FILTRAÇÃO</td>\n",
              "      <td>2021</td>\n",
              "      <td>1</td>\n",
              "      <td>SAÍDA DO TRATAMENTO</td>\n",
              "      <td>Fluoreto (mg/L)</td>\n",
              "      <td>Número de amostras analisadas</td>\n",
              "      <td>31.00</td>\n",
              "    </tr>\n",
              "    <tr>\n",
              "      <th>8</th>\n",
              "      <td>SUDESTE</td>\n",
              "      <td>MG</td>\n",
              "      <td>DIVINOPOLIS</td>\n",
              "      <td>312470</td>\n",
              "      <td>ESTRELA DO INDAIA</td>\n",
              "      <td>Regional</td>\n",
              "      <td>COPASA</td>\n",
              "      <td>COMPANHIA DE SANEAMENTO DE MINAS GERAIS</td>\n",
              "      <td>17281106000103</td>\n",
              "      <td>DISTRITO DO ALTO SAO FRANCISCO</td>\n",
              "      <td>...</td>\n",
              "      <td>S312470000001</td>\n",
              "      <td>SISTEMA ABASTECIMENTO DE ESTRELA DO INDAIA</td>\n",
              "      <td>ETA ESTRELA DO INDAIA</td>\n",
              "      <td>SEM FILTRAÇÃO</td>\n",
              "      <td>2021</td>\n",
              "      <td>1</td>\n",
              "      <td>SAÍDA DO TRATAMENTO</td>\n",
              "      <td>Fluoreto (mg/L)</td>\n",
              "      <td>Percentil 95</td>\n",
              "      <td>0.84</td>\n",
              "    </tr>\n",
              "    <tr>\n",
              "      <th>9</th>\n",
              "      <td>SUDESTE</td>\n",
              "      <td>MG</td>\n",
              "      <td>DIVINOPOLIS</td>\n",
              "      <td>312470</td>\n",
              "      <td>ESTRELA DO INDAIA</td>\n",
              "      <td>Regional</td>\n",
              "      <td>COPASA</td>\n",
              "      <td>COMPANHIA DE SANEAMENTO DE MINAS GERAIS</td>\n",
              "      <td>17281106000103</td>\n",
              "      <td>DISTRITO DO ALTO SAO FRANCISCO</td>\n",
              "      <td>...</td>\n",
              "      <td>S312470000001</td>\n",
              "      <td>SISTEMA ABASTECIMENTO DE ESTRELA DO INDAIA</td>\n",
              "      <td>ETA ESTRELA DO INDAIA</td>\n",
              "      <td>SEM FILTRAÇÃO</td>\n",
              "      <td>2021</td>\n",
              "      <td>1</td>\n",
              "      <td>SAÍDA DO TRATAMENTO</td>\n",
              "      <td>Fluoreto (mg/L)</td>\n",
              "      <td>Número de dados &gt; 1,5 mg/L</td>\n",
              "      <td>0.00</td>\n",
              "    </tr>\n",
              "  </tbody>\n",
              "</table>\n",
              "<p>10 rows × 22 columns</p>\n",
              "</div>"
            ],
            "text/plain": [
              "  Região Geográfica  UF Regional de Saúde Código IBGE          Município  \\\n",
              "0           SUDESTE  MG       DIVINOPOLIS      312470  ESTRELA DO INDAIA   \n",
              "1           SUDESTE  MG       DIVINOPOLIS      312470  ESTRELA DO INDAIA   \n",
              "2           SUDESTE  MG       DIVINOPOLIS      312470  ESTRELA DO INDAIA   \n",
              "3           SUDESTE  MG       DIVINOPOLIS      312470  ESTRELA DO INDAIA   \n",
              "4           SUDESTE  MG       DIVINOPOLIS      312470  ESTRELA DO INDAIA   \n",
              "5           SUDESTE  MG       DIVINOPOLIS      312470  ESTRELA DO INDAIA   \n",
              "6           SUDESTE  MG       DIVINOPOLIS      312470  ESTRELA DO INDAIA   \n",
              "7           SUDESTE  MG       DIVINOPOLIS      312470  ESTRELA DO INDAIA   \n",
              "8           SUDESTE  MG       DIVINOPOLIS      312470  ESTRELA DO INDAIA   \n",
              "9           SUDESTE  MG       DIVINOPOLIS      312470  ESTRELA DO INDAIA   \n",
              "\n",
              "  Tipo da Instituição Sigla da Instituição  \\\n",
              "0            Regional               COPASA   \n",
              "1            Regional               COPASA   \n",
              "2            Regional               COPASA   \n",
              "3            Regional               COPASA   \n",
              "4            Regional               COPASA   \n",
              "5            Regional               COPASA   \n",
              "6            Regional               COPASA   \n",
              "7            Regional               COPASA   \n",
              "8            Regional               COPASA   \n",
              "9            Regional               COPASA   \n",
              "\n",
              "                       Nome da Instituição CNPJ da Instituição  \\\n",
              "0  COMPANHIA DE SANEAMENTO DE MINAS GERAIS      17281106000103   \n",
              "1  COMPANHIA DE SANEAMENTO DE MINAS GERAIS      17281106000103   \n",
              "2  COMPANHIA DE SANEAMENTO DE MINAS GERAIS      17281106000103   \n",
              "3  COMPANHIA DE SANEAMENTO DE MINAS GERAIS      17281106000103   \n",
              "4  COMPANHIA DE SANEAMENTO DE MINAS GERAIS      17281106000103   \n",
              "5  COMPANHIA DE SANEAMENTO DE MINAS GERAIS      17281106000103   \n",
              "6  COMPANHIA DE SANEAMENTO DE MINAS GERAIS      17281106000103   \n",
              "7  COMPANHIA DE SANEAMENTO DE MINAS GERAIS      17281106000103   \n",
              "8  COMPANHIA DE SANEAMENTO DE MINAS GERAIS      17281106000103   \n",
              "9  COMPANHIA DE SANEAMENTO DE MINAS GERAIS      17281106000103   \n",
              "\n",
              "  Nome do escritório regional/local  ... Código Forma de abastecimento  \\\n",
              "0    DISTRITO DO ALTO SAO FRANCISCO  ...                 S312470000001   \n",
              "1    DISTRITO DO ALTO SAO FRANCISCO  ...                 S312470000001   \n",
              "2    DISTRITO DO ALTO SAO FRANCISCO  ...                 S312470000001   \n",
              "3    DISTRITO DO ALTO SAO FRANCISCO  ...                 S312470000001   \n",
              "4    DISTRITO DO ALTO SAO FRANCISCO  ...                 S312470000001   \n",
              "5    DISTRITO DO ALTO SAO FRANCISCO  ...                 S312470000001   \n",
              "6    DISTRITO DO ALTO SAO FRANCISCO  ...                 S312470000001   \n",
              "7    DISTRITO DO ALTO SAO FRANCISCO  ...                 S312470000001   \n",
              "8    DISTRITO DO ALTO SAO FRANCISCO  ...                 S312470000001   \n",
              "9    DISTRITO DO ALTO SAO FRANCISCO  ...                 S312470000001   \n",
              "\n",
              "               Nome da Forma de Abastecimento      Nome da ETA / UTA  \\\n",
              "0  SISTEMA ABASTECIMENTO DE ESTRELA DO INDAIA  ETA ESTRELA DO INDAIA   \n",
              "1  SISTEMA ABASTECIMENTO DE ESTRELA DO INDAIA  ETA ESTRELA DO INDAIA   \n",
              "2  SISTEMA ABASTECIMENTO DE ESTRELA DO INDAIA  ETA ESTRELA DO INDAIA   \n",
              "3  SISTEMA ABASTECIMENTO DE ESTRELA DO INDAIA  ETA ESTRELA DO INDAIA   \n",
              "4  SISTEMA ABASTECIMENTO DE ESTRELA DO INDAIA  ETA ESTRELA DO INDAIA   \n",
              "5  SISTEMA ABASTECIMENTO DE ESTRELA DO INDAIA  ETA ESTRELA DO INDAIA   \n",
              "6  SISTEMA ABASTECIMENTO DE ESTRELA DO INDAIA  ETA ESTRELA DO INDAIA   \n",
              "7  SISTEMA ABASTECIMENTO DE ESTRELA DO INDAIA  ETA ESTRELA DO INDAIA   \n",
              "8  SISTEMA ABASTECIMENTO DE ESTRELA DO INDAIA  ETA ESTRELA DO INDAIA   \n",
              "9  SISTEMA ABASTECIMENTO DE ESTRELA DO INDAIA  ETA ESTRELA DO INDAIA   \n",
              "\n",
              "  Tipo de Filtração Ano de referência Mês de referência  \\\n",
              "0     SEM FILTRAÇÃO              2021                 1   \n",
              "1     SEM FILTRAÇÃO              2021                 1   \n",
              "2     SEM FILTRAÇÃO              2021                 1   \n",
              "3     SEM FILTRAÇÃO              2021                 1   \n",
              "4     SEM FILTRAÇÃO              2021                 1   \n",
              "5     SEM FILTRAÇÃO              2021                 1   \n",
              "6     SEM FILTRAÇÃO              2021                 1   \n",
              "7     SEM FILTRAÇÃO              2021                 1   \n",
              "8     SEM FILTRAÇÃO              2021                 1   \n",
              "9     SEM FILTRAÇÃO              2021                 1   \n",
              "\n",
              "   Ponto de Monitoramento        Parâmetro                            Campo  \\\n",
              "0     SAÍDA DO TRATAMENTO               pH    Número de amostras analisadas   \n",
              "1     SAÍDA DO TRATAMENTO               pH            Número de dados > 9,0   \n",
              "2     SAÍDA DO TRATAMENTO               pH  Número de dados >= 6,0 e <= 9,0   \n",
              "3     SAÍDA DO TRATAMENTO               pH            Número de dados < 6,0   \n",
              "4     SAÍDA DO TRATAMENTO    Turbidez (uT)    Número de amostras analisadas   \n",
              "5     SAÍDA DO TRATAMENTO    Turbidez (uT)                     Percentil 95   \n",
              "6     SAÍDA DO TRATAMENTO  Fluoreto (mg/L)      Número de dados <= 1,5 mg/L   \n",
              "7     SAÍDA DO TRATAMENTO  Fluoreto (mg/L)    Número de amostras analisadas   \n",
              "8     SAÍDA DO TRATAMENTO  Fluoreto (mg/L)                     Percentil 95   \n",
              "9     SAÍDA DO TRATAMENTO  Fluoreto (mg/L)       Número de dados > 1,5 mg/L   \n",
              "\n",
              "   Valor  \n",
              "0  31.00  \n",
              "1   0.00  \n",
              "2  31.00  \n",
              "3   0.00  \n",
              "4  31.00  \n",
              "5   0.28  \n",
              "6  31.00  \n",
              "7  31.00  \n",
              "8   0.84  \n",
              "9   0.00  \n",
              "\n",
              "[10 rows x 22 columns]"
            ]
          },
          "execution_count": 4,
          "metadata": {},
          "output_type": "execute_result"
        }
      ],
      "source": [
        "df.head(10)"
      ]
    },
    {
      "cell_type": "code",
      "execution_count": null,
      "id": "ef7dc0f4",
      "metadata": {
        "id": "ef7dc0f4",
        "outputId": "a8ee59e3-c105-44c8-cdb7-cb3820624886"
      },
      "outputs": [
        {
          "data": {
            "text/plain": [
              "Região Geográfica                     object\n",
              "UF                                    object\n",
              "Regional de Saúde                     object\n",
              "Código IBGE                           object\n",
              "Município                             object\n",
              "Tipo da Instituição                   object\n",
              "Sigla da Instituição                  object\n",
              "Nome da Instituição                   object\n",
              "CNPJ da Instituição                   object\n",
              "Nome do escritório regional/local     object\n",
              "CNPJ do escritório regional/local     object\n",
              "Tipo da Forma de Abastecimento        object\n",
              "Código Forma de abastecimento         object\n",
              "Nome da Forma de Abastecimento        object\n",
              "Nome da ETA / UTA                     object\n",
              "Tipo de Filtração                     object\n",
              "Ano de referência                      int64\n",
              "Mês de referência                      int64\n",
              "Ponto de Monitoramento                object\n",
              "Parâmetro                             object\n",
              "Campo                                 object\n",
              "Valor                                float64\n",
              "dtype: object"
            ]
          },
          "execution_count": 14,
          "metadata": {},
          "output_type": "execute_result"
        }
      ],
      "source": [
        "df.dtypes\n"
      ]
    },
    {
      "cell_type": "code",
      "execution_count": null,
      "id": "8fc98f12",
      "metadata": {
        "id": "8fc98f12",
        "outputId": "46c24831-8250-4cc4-ec8d-de82296d208a"
      },
      "outputs": [
        {
          "data": {
            "text/plain": [
              "(8682233, 22)"
            ]
          },
          "execution_count": 15,
          "metadata": {},
          "output_type": "execute_result"
        }
      ],
      "source": [
        "df.shape"
      ]
    },
    {
      "cell_type": "code",
      "execution_count": null,
      "id": "c0846265",
      "metadata": {
        "id": "c0846265",
        "outputId": "161b49d1-a913-41c6-d5d4-9d50978242d5"
      },
      "outputs": [
        {
          "data": {
            "text/plain": [
              "Cloro Residual Livre (mg/L)          1825938\n",
              "Turbidez (uT)                        1408228\n",
              "pH                                   1267518\n",
              "Cor (uH)                             1138351\n",
              "Coliformes totais                    1047505\n",
              "Escherichia coli                     1017442\n",
              "Fluoreto (mg/L)                       824202\n",
              "Bactérias Heterotróficas (UFC/mL)     144630\n",
              "Dióxido de Cloro                        6752\n",
              "Cloro Residual Combinado (mg/L)         1667\n",
              "Name: Parâmetro, dtype: int64"
            ]
          },
          "execution_count": 4,
          "metadata": {},
          "output_type": "execute_result"
        }
      ],
      "source": [
        "df['Parâmetro'].value_counts()\n"
      ]
    },
    {
      "cell_type": "code",
      "execution_count": null,
      "id": "4cb0c28f",
      "metadata": {
        "id": "4cb0c28f",
        "outputId": "a1296006-ac09-4d57-9b59-38b37b1b9001"
      },
      "outputs": [
        {
          "data": {
            "text/plain": [
              "Número de amostras analisadas                       2312501\n",
              "Percentil 95                                         428082\n",
              "N de amostras com presença de coliformes totais      349172\n",
              "N de amostras com ausência de coliformes totais      349160\n",
              "Número de dados <= 15,0 uH                           346631\n",
              "Número de dados > 15,0 uH                            346629\n",
              "Número de dados < 0,2 mg/L                           345734\n",
              "Número de dados > 2,0 mg/L e <= 5,0mg/L              344163\n",
              "Número de dados >= 0,2 mg/L e <= 2,0mg/L             344162\n",
              "Número de dados > 5,0 mg/L                           344161\n",
              "N de amostras com presença para Escherichia coli     339149\n",
              "N de amostras com ausência para Escherichia coli     339144\n",
              "Número de dados > 9,0                                316880\n",
              "Número de dados < 6,0                                316879\n",
              "Número de dados >= 6,0 e <= 9,0                      316879\n",
              "Número de dados > 5,0 uT                             261577\n",
              "Número de dados <= 5,0 uT                            261574\n",
              "Número de dados <= 1,5 mg/L                          145725\n",
              "Número de dados > 1,5 mg/L                           145724\n",
              "Número de dados <                                     84918\n",
              "Número de dados >                                     84918\n",
              "Número de dados >=                                    84918\n",
              "Número de dados > 0,3 uT e <= 0,5 uT                  76288\n",
              "Número de dados > 0,5 uT e <= 1,0 uT                  76285\n",
              "Número de dados > 1,0 uT                              76285\n",
              "Número de dados <= 0,3 uT                             76284\n",
              "Média das temperaturas máximas diárias(°C)            67728\n",
              "Número de resultados > 500 UFC/mL                     48210\n",
              "Número de resultados < 500 UFC/mL                     48210\n",
              "Número de dados > 1,0 mg/L                             1572\n",
              "Número de dados >= 0,2 mg/L e <= 1,0 mg/L              1572\n",
              "Número de dados > 4,0 mg/L                              373\n",
              "Número de dados >= 2,0 mg/L e <= 4,0 mg/L               373\n",
              "Número de dados < 2,0 mg/L                              373\n",
              "Name: Campo, dtype: int64"
            ]
          },
          "execution_count": 24,
          "metadata": {},
          "output_type": "execute_result"
        }
      ],
      "source": [
        "df['Campo'].value_counts()"
      ]
    },
    {
      "cell_type": "code",
      "execution_count": null,
      "id": "856541c1",
      "metadata": {
        "id": "856541c1",
        "outputId": "afe34fe5-cad3-4551-8b10-4815094fa2ae"
      },
      "outputs": [
        {
          "data": {
            "text/plain": [
              "array(['SAÍDA DO TRATAMENTO', 'Pós-filtração ou Pré-desinfecção',\n",
              "       'PONTO DE CONSUMO', 'SISTEMA DE DISTRIBUIÇÃO',\n",
              "       'Saída do tratamento (para água canalizada)'], dtype=object)"
            ]
          },
          "execution_count": 26,
          "metadata": {},
          "output_type": "execute_result"
        }
      ],
      "source": [
        "df['Ponto de Monitoramento'].unique()"
      ]
    },
    {
      "cell_type": "code",
      "execution_count": null,
      "id": "71cfe82f",
      "metadata": {
        "id": "71cfe82f"
      },
      "outputs": [],
      "source": [
        "ponto_monitorameno = df[['Ponto de Monitoramento','Campo','Valor']].groupby(['Ponto de Monitoramento','Campo']).count()"
      ]
    },
    {
      "cell_type": "code",
      "execution_count": null,
      "id": "e718889a",
      "metadata": {
        "id": "e718889a"
      },
      "outputs": [],
      "source": [
        "ponto_monitorameno.to_csv('pontos.csv')"
      ]
    },
    {
      "cell_type": "code",
      "execution_count": null,
      "id": "de7bcbb8",
      "metadata": {
        "id": "de7bcbb8"
      },
      "outputs": [],
      "source": [
        "pam = df[['Parâmetro','Campo','Valor']].groupby(['Parâmetro','Campo']).count()"
      ]
    },
    {
      "cell_type": "code",
      "execution_count": null,
      "id": "43fb8603",
      "metadata": {
        "id": "43fb8603"
      },
      "outputs": [],
      "source": [
        "pam.to_csv('pam.csv',sep=';')"
      ]
    },
    {
      "cell_type": "code",
      "execution_count": null,
      "id": "cc69095c",
      "metadata": {
        "id": "cc69095c"
      },
      "outputs": [],
      "source": [
        ""
      ]
    }
  ],
  "metadata": {
    "kernelspec": {
      "display_name": "Python 3 (ipykernel)",
      "language": "python",
      "name": "python3"
    },
    "language_info": {
      "codemirror_mode": {
        "name": "ipython",
        "version": 3
      },
      "file_extension": ".py",
      "mimetype": "text/x-python",
      "name": "python",
      "nbconvert_exporter": "python",
      "pygments_lexer": "ipython3",
      "version": "3.9.7"
    },
    "colab": {
      "name": "explore_controle_mensal.ipynb",
      "provenance": []
    }
  },
  "nbformat": 4,
  "nbformat_minor": 5
}